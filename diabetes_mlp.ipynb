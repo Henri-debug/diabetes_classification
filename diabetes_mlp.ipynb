{
 "cells": [
  {
   "cell_type": "markdown",
   "id": "bf2c8238-a5f6-45f5-9b94-344e25c1c618",
   "metadata": {},
   "source": [
    "Diabetes Mellitus (DM) é uma síndrome metabólica de origem múltipla, decorrente da falta de insulina e/ou da incapacidade e/ou falta de insulina exercer adequadamente seus efeitos, caracterizando altas taxa de açúcar no sangue ( hiperglicemia) de forma permanente. A insulina é produzida pelo pâncreas, sendo responsável pela manutenção do metabolismo (quebra da glicose) para permitir que tenhamos energia para manter o organismo em funcionamento.\n"
   ]
  },
  {
   "cell_type": "markdown",
   "id": "1c68328b-6d84-44b1-8b50-12c4f1e1cc20",
   "metadata": {
    "jp-MarkdownHeadingCollapsed": true,
    "tags": []
   },
   "source": [
    "### Colunas\n",
    "- **Diabetes_012**\n",
    "    - 0 = no diabetes \n",
    "    - 1 = prediabetes \n",
    "    - 2 = diabetes\n",
    "- **HighBP (BP = Blood Pressure)**\n",
    "    - 0 = no high BP \n",
    "    - 1 = high BP\n",
    "- **HighChol**\n",
    "    - 0 = no high cholesterol \n",
    "    - 1 = high cholesterol\n",
    "- **CholCheck**\n",
    "    - 0 = no cholesterol check in 5 years \n",
    "    - 1 = yes cholesterol check in 5 years\n",
    "- **BMI (Body Mass Index)**\n",
    "- **Smoker (Have you smoked at least 100 cigarettes in your entire life? [Note: 5 packs = 100 cigarettes])**\n",
    "  - 0 = no \n",
    "  - 1 = yes\n",
    "- **Stroke**\n",
    "  - 0 = no \n",
    "  - 1 = yes\n",
    "- **HeartDiseaseorAttack (coronary heart disease (CHD) or myocardial infarction (MI))**\n",
    "  - 0 = no \n",
    "  - 1 = yes\n",
    "- **PhysActivity (physical activity in past 30 days - not including job)**\n",
    "  - 0 = no \n",
    "  - 1 = yes\n",
    "- **Fruits (Consume Fruit 1 or more times per day)** \n",
    "  - 0 = no \n",
    "  - 1 = yes \n",
    "- **Veggies (Consume Vegetables 1 or more times per day)**\n",
    "  - 0 = no \n",
    "  - 1 = yes\n",
    "- **HvyAlcoholConsump (Heavy drinkers (adult men having more than 14 drinks per week and adult women having more than 7 drinks per week))** \n",
    "  - 0 = no\n",
    "  - 1 = yes\n",
    "- **AnyHealthcare (Have any kind of health care coverage, including health insurance, prepaid plans such as HMO, etc.)** \n",
    "  - 0 = no \n",
    "  - 1 = yes\n",
    "- **NoDocbcCost (Was there a time in the past 12 months when you needed to see a doctor but could not because of cost?)**\n",
    "  - 0 = no \n",
    "  - 1 = yes\n",
    "- **GenHlth (Would you say that in general your health is: scale 1-5)**\n",
    "  - 1 = excellent \n",
    "  - 2 = very good \n",
    "  - 3 = good \n",
    "  - 4 = fair \n",
    "  - 5 = poor\n",
    "- **MentHlth (Now thinking about your mental health, which includes stress, depression, and problems with emotions, for how many days during the past 30 days was your mental health not good? scale 1-30 days)**\n",
    "- **PhysHlth (Now thinking about your physical health, which includes physical illness and injury, for how many days during the past 30 days was your physical health not good? scale 1-30 days)**\n",
    "- **DiffWalk (Do you have serious difficulty walking or climbing stairs?)**\n",
    "  - 0 = no \n",
    "  - 1 = yes\n",
    "- **Sex** \n",
    "  - 0 = female\n",
    "  - 1 = male\n",
    "- **Age (13-level age category (_AGEG5YR see codebook))** \n",
    "  - 1 = 18-24 \n",
    "  - 9 = 60-64 \n",
    "  - 13 = 80 or older \n",
    "- **Education (Education level (EDUCA see codebook) scale 1-6)**\n",
    "  - 1 = Never attended school or only kindergarten \n",
    "  - 2 = Grades 1 through 8 (Elementary) \n",
    "  - 3 = Grades 9 through 11 (Some high school) \n",
    "  - 4 = Grade 12 or GED (High school graduate) \n",
    "  - 5 = College 1 year to 3 years (Some college or technical school) \n",
    "  - 6 = College 4 years or more (College graduate)\n",
    "- **Income (Income scale (INCOME2 see codebook) scale 1-8)**\n",
    "  - 1 = less than $10,000\n",
    "  - 5 = less than $35,000 \n",
    "  - 8 = $75,000 or more "
   ]
  },
  {
   "cell_type": "markdown",
   "id": "641ee179-bfd1-45ee-8e0d-3255f89c10ae",
   "metadata": {
    "tags": []
   },
   "source": [
    "# Dependecies"
   ]
  },
  {
   "cell_type": "markdown",
   "id": "2dbd1b1e-ecad-4672-bd87-2097d0bb6bd4",
   "metadata": {},
   "source": [
    "- Pandas\n",
    "- Numpy\n",
    "- Tensorflow\n",
    "- Scikitlearn\n",
    "- Matplotlib\n",
    "- Seaborn"
   ]
  },
  {
   "cell_type": "markdown",
   "id": "27b09808-8b6b-4811-b8e0-5e91dba623ea",
   "metadata": {},
   "source": [
    "## Imports"
   ]
  },
  {
   "cell_type": "code",
   "execution_count": 1,
   "id": "7a6f10e4-1ee1-4d20-89bc-d63bbbcfe5a8",
   "metadata": {
    "tags": []
   },
   "outputs": [
    {
     "name": "stderr",
     "output_type": "stream",
     "text": [
      "2023-03-24 07:38:40.745657: I tensorflow/core/util/port.cc:110] oneDNN custom operations are on. You may see slightly different numerical results due to floating-point round-off errors from different computation orders. To turn them off, set the environment variable `TF_ENABLE_ONEDNN_OPTS=0`.\n",
      "2023-03-24 07:38:41.624710: I tensorflow/tsl/cuda/cudart_stub.cc:28] Could not find cuda drivers on your machine, GPU will not be used.\n",
      "2023-03-24 07:38:44.179322: I tensorflow/tsl/cuda/cudart_stub.cc:28] Could not find cuda drivers on your machine, GPU will not be used.\n",
      "2023-03-24 07:38:44.185145: I tensorflow/core/platform/cpu_feature_guard.cc:182] This TensorFlow binary is optimized to use available CPU instructions in performance-critical operations.\n",
      "To enable the following instructions: AVX2 AVX512F AVX512_VNNI FMA, in other operations, rebuild TensorFlow with the appropriate compiler flags.\n",
      "2023-03-24 07:38:49.873992: W tensorflow/compiler/tf2tensorrt/utils/py_utils.cc:38] TF-TRT Warning: Could not find TensorRT\n"
     ]
    }
   ],
   "source": [
    "import pandas as pd\n",
    "import numpy as np\n",
    "import matplotlib.pyplot as plt\n",
    "import seaborn as sns\n",
    "import pydot\n",
    "from tensorflow import keras\n",
    "from tensorflow.keras import layers\n",
    "from sklearn.model_selection import train_test_split\n",
    "from sklearn.metrics import confusion_matrix\n",
    "from tensorflow.keras.utils import plot_model"
   ]
  },
  {
   "cell_type": "markdown",
   "id": "a9317e9f-9e68-4363-9743-7e72051a8757",
   "metadata": {},
   "source": [
    "# Data Exploration"
   ]
  },
  {
   "cell_type": "code",
   "execution_count": 2,
   "id": "6b8adbef-d335-44c7-aab0-60c6e2797556",
   "metadata": {
    "tags": []
   },
   "outputs": [],
   "source": [
    "diabetes_df = pd.read_csv('data/diabetes_012_health_indicators_BRFSS2015.csv')"
   ]
  },
  {
   "cell_type": "code",
   "execution_count": 3,
   "id": "6dca4896-223d-47d3-abc4-c01eb504dfca",
   "metadata": {
    "tags": []
   },
   "outputs": [
    {
     "data": {
      "text/plain": [
       "(253680, 22)"
      ]
     },
     "execution_count": 3,
     "metadata": {},
     "output_type": "execute_result"
    }
   ],
   "source": [
    "diabetes_df.shape"
   ]
  },
  {
   "cell_type": "code",
   "execution_count": 4,
   "id": "22aa1f5a-cbcd-4a07-8244-440b6ccdb62a",
   "metadata": {
    "tags": []
   },
   "outputs": [
    {
     "data": {
      "text/plain": [
       "Index(['Diabetes_012', 'HighBP', 'HighChol', 'CholCheck', 'BMI', 'Smoker',\n",
       "       'Stroke', 'HeartDiseaseorAttack', 'PhysActivity', 'Fruits', 'Veggies',\n",
       "       'HvyAlcoholConsump', 'AnyHealthcare', 'NoDocbcCost', 'GenHlth',\n",
       "       'MentHlth', 'PhysHlth', 'DiffWalk', 'Sex', 'Age', 'Education',\n",
       "       'Income'],\n",
       "      dtype='object')"
      ]
     },
     "execution_count": 4,
     "metadata": {},
     "output_type": "execute_result"
    }
   ],
   "source": [
    "diabetes_df.columns"
   ]
  },
  {
   "cell_type": "code",
   "execution_count": 5,
   "id": "8c9cc0f0-2b84-4853-837a-5b5bc6294836",
   "metadata": {
    "tags": []
   },
   "outputs": [
    {
     "data": {
      "text/plain": [
       "Diabetes_012            float64\n",
       "HighBP                  float64\n",
       "HighChol                float64\n",
       "CholCheck               float64\n",
       "BMI                     float64\n",
       "Smoker                  float64\n",
       "Stroke                  float64\n",
       "HeartDiseaseorAttack    float64\n",
       "PhysActivity            float64\n",
       "Fruits                  float64\n",
       "Veggies                 float64\n",
       "HvyAlcoholConsump       float64\n",
       "AnyHealthcare           float64\n",
       "NoDocbcCost             float64\n",
       "GenHlth                 float64\n",
       "MentHlth                float64\n",
       "PhysHlth                float64\n",
       "DiffWalk                float64\n",
       "Sex                     float64\n",
       "Age                     float64\n",
       "Education               float64\n",
       "Income                  float64\n",
       "dtype: object"
      ]
     },
     "execution_count": 5,
     "metadata": {},
     "output_type": "execute_result"
    }
   ],
   "source": [
    "diabetes_df.dtypes"
   ]
  },
  {
   "cell_type": "code",
   "execution_count": 6,
   "id": "adbaf348-cf17-4990-bb62-c3bcc1e5291f",
   "metadata": {
    "tags": []
   },
   "outputs": [
    {
     "data": {
      "text/plain": [
       "Diabetes_012            int64\n",
       "HighBP                  int64\n",
       "HighChol                int64\n",
       "CholCheck               int64\n",
       "BMI                     int64\n",
       "Smoker                  int64\n",
       "Stroke                  int64\n",
       "HeartDiseaseorAttack    int64\n",
       "PhysActivity            int64\n",
       "Fruits                  int64\n",
       "Veggies                 int64\n",
       "HvyAlcoholConsump       int64\n",
       "AnyHealthcare           int64\n",
       "NoDocbcCost             int64\n",
       "GenHlth                 int64\n",
       "MentHlth                int64\n",
       "PhysHlth                int64\n",
       "DiffWalk                int64\n",
       "Sex                     int64\n",
       "Age                     int64\n",
       "Education               int64\n",
       "Income                  int64\n",
       "dtype: object"
      ]
     },
     "execution_count": 6,
     "metadata": {},
     "output_type": "execute_result"
    }
   ],
   "source": [
    "# Mod the types\n",
    "diabetes_df['Diabetes_012'] = diabetes_df['Diabetes_012'].astype('int')\n",
    "diabetes_df['HighBP'] = diabetes_df['HighBP'].astype('int')\n",
    "diabetes_df['HighChol'] = diabetes_df['HighChol'].astype('int')\n",
    "diabetes_df['CholCheck'] = diabetes_df['CholCheck'].astype('int')\n",
    "diabetes_df['BMI'] = diabetes_df['BMI'].astype('int')\n",
    "diabetes_df['Smoker'] = diabetes_df['Smoker'].astype('int')\n",
    "diabetes_df['Stroke'] = diabetes_df['Stroke'].astype('int')\n",
    "diabetes_df['HeartDiseaseorAttack'] = diabetes_df['HeartDiseaseorAttack'].astype('int')\n",
    "diabetes_df['PhysActivity'] = diabetes_df['PhysActivity'].astype('int')\n",
    "diabetes_df['Fruits'] = diabetes_df['Fruits'].astype('int')\n",
    "diabetes_df['Veggies'] = diabetes_df['Veggies'].astype('int')\n",
    "diabetes_df['HvyAlcoholConsump'] = diabetes_df['HvyAlcoholConsump'].astype('int')\n",
    "diabetes_df['AnyHealthcare'] = diabetes_df['AnyHealthcare'].astype('int')\n",
    "diabetes_df['NoDocbcCost'] = diabetes_df['NoDocbcCost'].astype('int')\n",
    "diabetes_df['GenHlth'] = diabetes_df['GenHlth'].astype('int')\n",
    "diabetes_df['MentHlth'] = diabetes_df['MentHlth'].astype('int')\n",
    "diabetes_df['PhysHlth'] = diabetes_df['PhysHlth'].astype('int')\n",
    "diabetes_df['DiffWalk'] = diabetes_df['DiffWalk'].astype('int')\n",
    "diabetes_df['Sex'] = diabetes_df['Sex'].astype('int')\n",
    "diabetes_df['Age'] = diabetes_df['Age'].astype('int')\n",
    "diabetes_df['Education'] = diabetes_df['Education'].astype('int')\n",
    "diabetes_df['Income'] = diabetes_df['Income'].astype('int')\n",
    "diabetes_df.dtypes"
   ]
  },
  {
   "cell_type": "code",
   "execution_count": 7,
   "id": "3021cc6a-8bf2-4e88-9d80-bd9d760381f9",
   "metadata": {
    "tags": []
   },
   "outputs": [
    {
     "data": {
      "text/html": [
       "<div>\n",
       "<style scoped>\n",
       "    .dataframe tbody tr th:only-of-type {\n",
       "        vertical-align: middle;\n",
       "    }\n",
       "\n",
       "    .dataframe tbody tr th {\n",
       "        vertical-align: top;\n",
       "    }\n",
       "\n",
       "    .dataframe thead th {\n",
       "        text-align: right;\n",
       "    }\n",
       "</style>\n",
       "<table border=\"1\" class=\"dataframe\">\n",
       "  <thead>\n",
       "    <tr style=\"text-align: right;\">\n",
       "      <th></th>\n",
       "      <th>Diabetes_012</th>\n",
       "      <th>HighBP</th>\n",
       "      <th>HighChol</th>\n",
       "      <th>CholCheck</th>\n",
       "      <th>BMI</th>\n",
       "      <th>Smoker</th>\n",
       "      <th>Stroke</th>\n",
       "      <th>HeartDiseaseorAttack</th>\n",
       "      <th>PhysActivity</th>\n",
       "      <th>Fruits</th>\n",
       "      <th>...</th>\n",
       "      <th>AnyHealthcare</th>\n",
       "      <th>NoDocbcCost</th>\n",
       "      <th>GenHlth</th>\n",
       "      <th>MentHlth</th>\n",
       "      <th>PhysHlth</th>\n",
       "      <th>DiffWalk</th>\n",
       "      <th>Sex</th>\n",
       "      <th>Age</th>\n",
       "      <th>Education</th>\n",
       "      <th>Income</th>\n",
       "    </tr>\n",
       "  </thead>\n",
       "  <tbody>\n",
       "    <tr>\n",
       "      <th>0</th>\n",
       "      <td>0</td>\n",
       "      <td>1</td>\n",
       "      <td>1</td>\n",
       "      <td>1</td>\n",
       "      <td>40</td>\n",
       "      <td>1</td>\n",
       "      <td>0</td>\n",
       "      <td>0</td>\n",
       "      <td>0</td>\n",
       "      <td>0</td>\n",
       "      <td>...</td>\n",
       "      <td>1</td>\n",
       "      <td>0</td>\n",
       "      <td>5</td>\n",
       "      <td>18</td>\n",
       "      <td>15</td>\n",
       "      <td>1</td>\n",
       "      <td>0</td>\n",
       "      <td>9</td>\n",
       "      <td>4</td>\n",
       "      <td>3</td>\n",
       "    </tr>\n",
       "    <tr>\n",
       "      <th>1</th>\n",
       "      <td>0</td>\n",
       "      <td>0</td>\n",
       "      <td>0</td>\n",
       "      <td>0</td>\n",
       "      <td>25</td>\n",
       "      <td>1</td>\n",
       "      <td>0</td>\n",
       "      <td>0</td>\n",
       "      <td>1</td>\n",
       "      <td>0</td>\n",
       "      <td>...</td>\n",
       "      <td>0</td>\n",
       "      <td>1</td>\n",
       "      <td>3</td>\n",
       "      <td>0</td>\n",
       "      <td>0</td>\n",
       "      <td>0</td>\n",
       "      <td>0</td>\n",
       "      <td>7</td>\n",
       "      <td>6</td>\n",
       "      <td>1</td>\n",
       "    </tr>\n",
       "    <tr>\n",
       "      <th>2</th>\n",
       "      <td>0</td>\n",
       "      <td>1</td>\n",
       "      <td>1</td>\n",
       "      <td>1</td>\n",
       "      <td>28</td>\n",
       "      <td>0</td>\n",
       "      <td>0</td>\n",
       "      <td>0</td>\n",
       "      <td>0</td>\n",
       "      <td>1</td>\n",
       "      <td>...</td>\n",
       "      <td>1</td>\n",
       "      <td>1</td>\n",
       "      <td>5</td>\n",
       "      <td>30</td>\n",
       "      <td>30</td>\n",
       "      <td>1</td>\n",
       "      <td>0</td>\n",
       "      <td>9</td>\n",
       "      <td>4</td>\n",
       "      <td>8</td>\n",
       "    </tr>\n",
       "    <tr>\n",
       "      <th>3</th>\n",
       "      <td>0</td>\n",
       "      <td>1</td>\n",
       "      <td>0</td>\n",
       "      <td>1</td>\n",
       "      <td>27</td>\n",
       "      <td>0</td>\n",
       "      <td>0</td>\n",
       "      <td>0</td>\n",
       "      <td>1</td>\n",
       "      <td>1</td>\n",
       "      <td>...</td>\n",
       "      <td>1</td>\n",
       "      <td>0</td>\n",
       "      <td>2</td>\n",
       "      <td>0</td>\n",
       "      <td>0</td>\n",
       "      <td>0</td>\n",
       "      <td>0</td>\n",
       "      <td>11</td>\n",
       "      <td>3</td>\n",
       "      <td>6</td>\n",
       "    </tr>\n",
       "    <tr>\n",
       "      <th>4</th>\n",
       "      <td>0</td>\n",
       "      <td>1</td>\n",
       "      <td>1</td>\n",
       "      <td>1</td>\n",
       "      <td>24</td>\n",
       "      <td>0</td>\n",
       "      <td>0</td>\n",
       "      <td>0</td>\n",
       "      <td>1</td>\n",
       "      <td>1</td>\n",
       "      <td>...</td>\n",
       "      <td>1</td>\n",
       "      <td>0</td>\n",
       "      <td>2</td>\n",
       "      <td>3</td>\n",
       "      <td>0</td>\n",
       "      <td>0</td>\n",
       "      <td>0</td>\n",
       "      <td>11</td>\n",
       "      <td>5</td>\n",
       "      <td>4</td>\n",
       "    </tr>\n",
       "    <tr>\n",
       "      <th>5</th>\n",
       "      <td>0</td>\n",
       "      <td>1</td>\n",
       "      <td>1</td>\n",
       "      <td>1</td>\n",
       "      <td>25</td>\n",
       "      <td>1</td>\n",
       "      <td>0</td>\n",
       "      <td>0</td>\n",
       "      <td>1</td>\n",
       "      <td>1</td>\n",
       "      <td>...</td>\n",
       "      <td>1</td>\n",
       "      <td>0</td>\n",
       "      <td>2</td>\n",
       "      <td>0</td>\n",
       "      <td>2</td>\n",
       "      <td>0</td>\n",
       "      <td>1</td>\n",
       "      <td>10</td>\n",
       "      <td>6</td>\n",
       "      <td>8</td>\n",
       "    </tr>\n",
       "    <tr>\n",
       "      <th>6</th>\n",
       "      <td>0</td>\n",
       "      <td>1</td>\n",
       "      <td>0</td>\n",
       "      <td>1</td>\n",
       "      <td>30</td>\n",
       "      <td>1</td>\n",
       "      <td>0</td>\n",
       "      <td>0</td>\n",
       "      <td>0</td>\n",
       "      <td>0</td>\n",
       "      <td>...</td>\n",
       "      <td>1</td>\n",
       "      <td>0</td>\n",
       "      <td>3</td>\n",
       "      <td>0</td>\n",
       "      <td>14</td>\n",
       "      <td>0</td>\n",
       "      <td>0</td>\n",
       "      <td>9</td>\n",
       "      <td>6</td>\n",
       "      <td>7</td>\n",
       "    </tr>\n",
       "    <tr>\n",
       "      <th>7</th>\n",
       "      <td>0</td>\n",
       "      <td>1</td>\n",
       "      <td>1</td>\n",
       "      <td>1</td>\n",
       "      <td>25</td>\n",
       "      <td>1</td>\n",
       "      <td>0</td>\n",
       "      <td>0</td>\n",
       "      <td>1</td>\n",
       "      <td>0</td>\n",
       "      <td>...</td>\n",
       "      <td>1</td>\n",
       "      <td>0</td>\n",
       "      <td>3</td>\n",
       "      <td>0</td>\n",
       "      <td>0</td>\n",
       "      <td>1</td>\n",
       "      <td>0</td>\n",
       "      <td>11</td>\n",
       "      <td>4</td>\n",
       "      <td>4</td>\n",
       "    </tr>\n",
       "    <tr>\n",
       "      <th>8</th>\n",
       "      <td>2</td>\n",
       "      <td>1</td>\n",
       "      <td>1</td>\n",
       "      <td>1</td>\n",
       "      <td>30</td>\n",
       "      <td>1</td>\n",
       "      <td>0</td>\n",
       "      <td>1</td>\n",
       "      <td>0</td>\n",
       "      <td>1</td>\n",
       "      <td>...</td>\n",
       "      <td>1</td>\n",
       "      <td>0</td>\n",
       "      <td>5</td>\n",
       "      <td>30</td>\n",
       "      <td>30</td>\n",
       "      <td>1</td>\n",
       "      <td>0</td>\n",
       "      <td>9</td>\n",
       "      <td>5</td>\n",
       "      <td>1</td>\n",
       "    </tr>\n",
       "    <tr>\n",
       "      <th>9</th>\n",
       "      <td>0</td>\n",
       "      <td>0</td>\n",
       "      <td>0</td>\n",
       "      <td>1</td>\n",
       "      <td>24</td>\n",
       "      <td>0</td>\n",
       "      <td>0</td>\n",
       "      <td>0</td>\n",
       "      <td>0</td>\n",
       "      <td>0</td>\n",
       "      <td>...</td>\n",
       "      <td>1</td>\n",
       "      <td>0</td>\n",
       "      <td>2</td>\n",
       "      <td>0</td>\n",
       "      <td>0</td>\n",
       "      <td>0</td>\n",
       "      <td>1</td>\n",
       "      <td>8</td>\n",
       "      <td>4</td>\n",
       "      <td>3</td>\n",
       "    </tr>\n",
       "  </tbody>\n",
       "</table>\n",
       "<p>10 rows × 22 columns</p>\n",
       "</div>"
      ],
      "text/plain": [
       "   Diabetes_012  HighBP  HighChol  CholCheck  BMI  Smoker  Stroke  \\\n",
       "0             0       1         1          1   40       1       0   \n",
       "1             0       0         0          0   25       1       0   \n",
       "2             0       1         1          1   28       0       0   \n",
       "3             0       1         0          1   27       0       0   \n",
       "4             0       1         1          1   24       0       0   \n",
       "5             0       1         1          1   25       1       0   \n",
       "6             0       1         0          1   30       1       0   \n",
       "7             0       1         1          1   25       1       0   \n",
       "8             2       1         1          1   30       1       0   \n",
       "9             0       0         0          1   24       0       0   \n",
       "\n",
       "   HeartDiseaseorAttack  PhysActivity  Fruits  ...  AnyHealthcare  \\\n",
       "0                     0             0       0  ...              1   \n",
       "1                     0             1       0  ...              0   \n",
       "2                     0             0       1  ...              1   \n",
       "3                     0             1       1  ...              1   \n",
       "4                     0             1       1  ...              1   \n",
       "5                     0             1       1  ...              1   \n",
       "6                     0             0       0  ...              1   \n",
       "7                     0             1       0  ...              1   \n",
       "8                     1             0       1  ...              1   \n",
       "9                     0             0       0  ...              1   \n",
       "\n",
       "   NoDocbcCost  GenHlth  MentHlth  PhysHlth  DiffWalk  Sex  Age  Education  \\\n",
       "0            0        5        18        15         1    0    9          4   \n",
       "1            1        3         0         0         0    0    7          6   \n",
       "2            1        5        30        30         1    0    9          4   \n",
       "3            0        2         0         0         0    0   11          3   \n",
       "4            0        2         3         0         0    0   11          5   \n",
       "5            0        2         0         2         0    1   10          6   \n",
       "6            0        3         0        14         0    0    9          6   \n",
       "7            0        3         0         0         1    0   11          4   \n",
       "8            0        5        30        30         1    0    9          5   \n",
       "9            0        2         0         0         0    1    8          4   \n",
       "\n",
       "   Income  \n",
       "0       3  \n",
       "1       1  \n",
       "2       8  \n",
       "3       6  \n",
       "4       4  \n",
       "5       8  \n",
       "6       7  \n",
       "7       4  \n",
       "8       1  \n",
       "9       3  \n",
       "\n",
       "[10 rows x 22 columns]"
      ]
     },
     "execution_count": 7,
     "metadata": {},
     "output_type": "execute_result"
    }
   ],
   "source": [
    "diabetes_df.head(10)"
   ]
  },
  {
   "cell_type": "code",
   "execution_count": 8,
   "id": "648cd79d-a7bb-4997-ba3a-5e95c6027b16",
   "metadata": {
    "tags": []
   },
   "outputs": [
    {
     "data": {
      "text/html": [
       "<div>\n",
       "<style scoped>\n",
       "    .dataframe tbody tr th:only-of-type {\n",
       "        vertical-align: middle;\n",
       "    }\n",
       "\n",
       "    .dataframe tbody tr th {\n",
       "        vertical-align: top;\n",
       "    }\n",
       "\n",
       "    .dataframe thead th {\n",
       "        text-align: right;\n",
       "    }\n",
       "</style>\n",
       "<table border=\"1\" class=\"dataframe\">\n",
       "  <thead>\n",
       "    <tr style=\"text-align: right;\">\n",
       "      <th></th>\n",
       "      <th>Diabetes_012</th>\n",
       "      <th>HighBP</th>\n",
       "      <th>HighChol</th>\n",
       "      <th>CholCheck</th>\n",
       "      <th>BMI</th>\n",
       "      <th>Smoker</th>\n",
       "      <th>Stroke</th>\n",
       "      <th>HeartDiseaseorAttack</th>\n",
       "      <th>PhysActivity</th>\n",
       "      <th>Fruits</th>\n",
       "      <th>...</th>\n",
       "      <th>AnyHealthcare</th>\n",
       "      <th>NoDocbcCost</th>\n",
       "      <th>GenHlth</th>\n",
       "      <th>MentHlth</th>\n",
       "      <th>PhysHlth</th>\n",
       "      <th>DiffWalk</th>\n",
       "      <th>Sex</th>\n",
       "      <th>Age</th>\n",
       "      <th>Education</th>\n",
       "      <th>Income</th>\n",
       "    </tr>\n",
       "  </thead>\n",
       "  <tbody>\n",
       "    <tr>\n",
       "      <th>count</th>\n",
       "      <td>253680.000000</td>\n",
       "      <td>253680.000000</td>\n",
       "      <td>253680.000000</td>\n",
       "      <td>253680.000000</td>\n",
       "      <td>253680.000000</td>\n",
       "      <td>253680.000000</td>\n",
       "      <td>253680.000000</td>\n",
       "      <td>253680.000000</td>\n",
       "      <td>253680.000000</td>\n",
       "      <td>253680.000000</td>\n",
       "      <td>...</td>\n",
       "      <td>253680.000000</td>\n",
       "      <td>253680.000000</td>\n",
       "      <td>253680.000000</td>\n",
       "      <td>253680.000000</td>\n",
       "      <td>253680.000000</td>\n",
       "      <td>253680.000000</td>\n",
       "      <td>253680.000000</td>\n",
       "      <td>253680.000000</td>\n",
       "      <td>253680.000000</td>\n",
       "      <td>253680.000000</td>\n",
       "    </tr>\n",
       "    <tr>\n",
       "      <th>mean</th>\n",
       "      <td>0.296921</td>\n",
       "      <td>0.429001</td>\n",
       "      <td>0.424121</td>\n",
       "      <td>0.962670</td>\n",
       "      <td>28.382364</td>\n",
       "      <td>0.443169</td>\n",
       "      <td>0.040571</td>\n",
       "      <td>0.094186</td>\n",
       "      <td>0.756544</td>\n",
       "      <td>0.634256</td>\n",
       "      <td>...</td>\n",
       "      <td>0.951053</td>\n",
       "      <td>0.084177</td>\n",
       "      <td>2.511392</td>\n",
       "      <td>3.184772</td>\n",
       "      <td>4.242081</td>\n",
       "      <td>0.168224</td>\n",
       "      <td>0.440342</td>\n",
       "      <td>8.032119</td>\n",
       "      <td>5.050434</td>\n",
       "      <td>6.053875</td>\n",
       "    </tr>\n",
       "    <tr>\n",
       "      <th>std</th>\n",
       "      <td>0.698160</td>\n",
       "      <td>0.494934</td>\n",
       "      <td>0.494210</td>\n",
       "      <td>0.189571</td>\n",
       "      <td>6.608694</td>\n",
       "      <td>0.496761</td>\n",
       "      <td>0.197294</td>\n",
       "      <td>0.292087</td>\n",
       "      <td>0.429169</td>\n",
       "      <td>0.481639</td>\n",
       "      <td>...</td>\n",
       "      <td>0.215759</td>\n",
       "      <td>0.277654</td>\n",
       "      <td>1.068477</td>\n",
       "      <td>7.412847</td>\n",
       "      <td>8.717951</td>\n",
       "      <td>0.374066</td>\n",
       "      <td>0.496429</td>\n",
       "      <td>3.054220</td>\n",
       "      <td>0.985774</td>\n",
       "      <td>2.071148</td>\n",
       "    </tr>\n",
       "    <tr>\n",
       "      <th>min</th>\n",
       "      <td>0.000000</td>\n",
       "      <td>0.000000</td>\n",
       "      <td>0.000000</td>\n",
       "      <td>0.000000</td>\n",
       "      <td>12.000000</td>\n",
       "      <td>0.000000</td>\n",
       "      <td>0.000000</td>\n",
       "      <td>0.000000</td>\n",
       "      <td>0.000000</td>\n",
       "      <td>0.000000</td>\n",
       "      <td>...</td>\n",
       "      <td>0.000000</td>\n",
       "      <td>0.000000</td>\n",
       "      <td>1.000000</td>\n",
       "      <td>0.000000</td>\n",
       "      <td>0.000000</td>\n",
       "      <td>0.000000</td>\n",
       "      <td>0.000000</td>\n",
       "      <td>1.000000</td>\n",
       "      <td>1.000000</td>\n",
       "      <td>1.000000</td>\n",
       "    </tr>\n",
       "    <tr>\n",
       "      <th>25%</th>\n",
       "      <td>0.000000</td>\n",
       "      <td>0.000000</td>\n",
       "      <td>0.000000</td>\n",
       "      <td>1.000000</td>\n",
       "      <td>24.000000</td>\n",
       "      <td>0.000000</td>\n",
       "      <td>0.000000</td>\n",
       "      <td>0.000000</td>\n",
       "      <td>1.000000</td>\n",
       "      <td>0.000000</td>\n",
       "      <td>...</td>\n",
       "      <td>1.000000</td>\n",
       "      <td>0.000000</td>\n",
       "      <td>2.000000</td>\n",
       "      <td>0.000000</td>\n",
       "      <td>0.000000</td>\n",
       "      <td>0.000000</td>\n",
       "      <td>0.000000</td>\n",
       "      <td>6.000000</td>\n",
       "      <td>4.000000</td>\n",
       "      <td>5.000000</td>\n",
       "    </tr>\n",
       "    <tr>\n",
       "      <th>50%</th>\n",
       "      <td>0.000000</td>\n",
       "      <td>0.000000</td>\n",
       "      <td>0.000000</td>\n",
       "      <td>1.000000</td>\n",
       "      <td>27.000000</td>\n",
       "      <td>0.000000</td>\n",
       "      <td>0.000000</td>\n",
       "      <td>0.000000</td>\n",
       "      <td>1.000000</td>\n",
       "      <td>1.000000</td>\n",
       "      <td>...</td>\n",
       "      <td>1.000000</td>\n",
       "      <td>0.000000</td>\n",
       "      <td>2.000000</td>\n",
       "      <td>0.000000</td>\n",
       "      <td>0.000000</td>\n",
       "      <td>0.000000</td>\n",
       "      <td>0.000000</td>\n",
       "      <td>8.000000</td>\n",
       "      <td>5.000000</td>\n",
       "      <td>7.000000</td>\n",
       "    </tr>\n",
       "    <tr>\n",
       "      <th>75%</th>\n",
       "      <td>0.000000</td>\n",
       "      <td>1.000000</td>\n",
       "      <td>1.000000</td>\n",
       "      <td>1.000000</td>\n",
       "      <td>31.000000</td>\n",
       "      <td>1.000000</td>\n",
       "      <td>0.000000</td>\n",
       "      <td>0.000000</td>\n",
       "      <td>1.000000</td>\n",
       "      <td>1.000000</td>\n",
       "      <td>...</td>\n",
       "      <td>1.000000</td>\n",
       "      <td>0.000000</td>\n",
       "      <td>3.000000</td>\n",
       "      <td>2.000000</td>\n",
       "      <td>3.000000</td>\n",
       "      <td>0.000000</td>\n",
       "      <td>1.000000</td>\n",
       "      <td>10.000000</td>\n",
       "      <td>6.000000</td>\n",
       "      <td>8.000000</td>\n",
       "    </tr>\n",
       "    <tr>\n",
       "      <th>max</th>\n",
       "      <td>2.000000</td>\n",
       "      <td>1.000000</td>\n",
       "      <td>1.000000</td>\n",
       "      <td>1.000000</td>\n",
       "      <td>98.000000</td>\n",
       "      <td>1.000000</td>\n",
       "      <td>1.000000</td>\n",
       "      <td>1.000000</td>\n",
       "      <td>1.000000</td>\n",
       "      <td>1.000000</td>\n",
       "      <td>...</td>\n",
       "      <td>1.000000</td>\n",
       "      <td>1.000000</td>\n",
       "      <td>5.000000</td>\n",
       "      <td>30.000000</td>\n",
       "      <td>30.000000</td>\n",
       "      <td>1.000000</td>\n",
       "      <td>1.000000</td>\n",
       "      <td>13.000000</td>\n",
       "      <td>6.000000</td>\n",
       "      <td>8.000000</td>\n",
       "    </tr>\n",
       "  </tbody>\n",
       "</table>\n",
       "<p>8 rows × 22 columns</p>\n",
       "</div>"
      ],
      "text/plain": [
       "        Diabetes_012         HighBP       HighChol      CholCheck  \\\n",
       "count  253680.000000  253680.000000  253680.000000  253680.000000   \n",
       "mean        0.296921       0.429001       0.424121       0.962670   \n",
       "std         0.698160       0.494934       0.494210       0.189571   \n",
       "min         0.000000       0.000000       0.000000       0.000000   \n",
       "25%         0.000000       0.000000       0.000000       1.000000   \n",
       "50%         0.000000       0.000000       0.000000       1.000000   \n",
       "75%         0.000000       1.000000       1.000000       1.000000   \n",
       "max         2.000000       1.000000       1.000000       1.000000   \n",
       "\n",
       "                 BMI         Smoker         Stroke  HeartDiseaseorAttack  \\\n",
       "count  253680.000000  253680.000000  253680.000000         253680.000000   \n",
       "mean       28.382364       0.443169       0.040571              0.094186   \n",
       "std         6.608694       0.496761       0.197294              0.292087   \n",
       "min        12.000000       0.000000       0.000000              0.000000   \n",
       "25%        24.000000       0.000000       0.000000              0.000000   \n",
       "50%        27.000000       0.000000       0.000000              0.000000   \n",
       "75%        31.000000       1.000000       0.000000              0.000000   \n",
       "max        98.000000       1.000000       1.000000              1.000000   \n",
       "\n",
       "        PhysActivity         Fruits  ...  AnyHealthcare    NoDocbcCost  \\\n",
       "count  253680.000000  253680.000000  ...  253680.000000  253680.000000   \n",
       "mean        0.756544       0.634256  ...       0.951053       0.084177   \n",
       "std         0.429169       0.481639  ...       0.215759       0.277654   \n",
       "min         0.000000       0.000000  ...       0.000000       0.000000   \n",
       "25%         1.000000       0.000000  ...       1.000000       0.000000   \n",
       "50%         1.000000       1.000000  ...       1.000000       0.000000   \n",
       "75%         1.000000       1.000000  ...       1.000000       0.000000   \n",
       "max         1.000000       1.000000  ...       1.000000       1.000000   \n",
       "\n",
       "             GenHlth       MentHlth       PhysHlth       DiffWalk  \\\n",
       "count  253680.000000  253680.000000  253680.000000  253680.000000   \n",
       "mean        2.511392       3.184772       4.242081       0.168224   \n",
       "std         1.068477       7.412847       8.717951       0.374066   \n",
       "min         1.000000       0.000000       0.000000       0.000000   \n",
       "25%         2.000000       0.000000       0.000000       0.000000   \n",
       "50%         2.000000       0.000000       0.000000       0.000000   \n",
       "75%         3.000000       2.000000       3.000000       0.000000   \n",
       "max         5.000000      30.000000      30.000000       1.000000   \n",
       "\n",
       "                 Sex            Age      Education         Income  \n",
       "count  253680.000000  253680.000000  253680.000000  253680.000000  \n",
       "mean        0.440342       8.032119       5.050434       6.053875  \n",
       "std         0.496429       3.054220       0.985774       2.071148  \n",
       "min         0.000000       1.000000       1.000000       1.000000  \n",
       "25%         0.000000       6.000000       4.000000       5.000000  \n",
       "50%         0.000000       8.000000       5.000000       7.000000  \n",
       "75%         1.000000      10.000000       6.000000       8.000000  \n",
       "max         1.000000      13.000000       6.000000       8.000000  \n",
       "\n",
       "[8 rows x 22 columns]"
      ]
     },
     "execution_count": 8,
     "metadata": {},
     "output_type": "execute_result"
    }
   ],
   "source": [
    "diabetes_df.describe()"
   ]
  },
  {
   "cell_type": "code",
   "execution_count": 9,
   "id": "b147842e-c5f8-45bc-bd8e-f106859960ca",
   "metadata": {
    "tags": []
   },
   "outputs": [
    {
     "data": {
      "text/plain": [
       "Diabetes_012            0\n",
       "HighBP                  0\n",
       "HighChol                0\n",
       "CholCheck               0\n",
       "BMI                     0\n",
       "Smoker                  0\n",
       "Stroke                  0\n",
       "HeartDiseaseorAttack    0\n",
       "PhysActivity            0\n",
       "Fruits                  0\n",
       "Veggies                 0\n",
       "HvyAlcoholConsump       0\n",
       "AnyHealthcare           0\n",
       "NoDocbcCost             0\n",
       "GenHlth                 0\n",
       "MentHlth                0\n",
       "PhysHlth                0\n",
       "DiffWalk                0\n",
       "Sex                     0\n",
       "Age                     0\n",
       "Education               0\n",
       "Income                  0\n",
       "dtype: int64"
      ]
     },
     "execution_count": 9,
     "metadata": {},
     "output_type": "execute_result"
    }
   ],
   "source": [
    "diabetes_df.isnull().sum()"
   ]
  },
  {
   "cell_type": "code",
   "execution_count": 10,
   "id": "2e35a332-81e5-41c6-9dd7-cb217751f79b",
   "metadata": {
    "tags": []
   },
   "outputs": [
    {
     "data": {
      "text/plain": [
       "Diabetes_012            0\n",
       "HighBP                  0\n",
       "HighChol                0\n",
       "CholCheck               0\n",
       "BMI                     0\n",
       "Smoker                  0\n",
       "Stroke                  0\n",
       "HeartDiseaseorAttack    0\n",
       "PhysActivity            0\n",
       "Fruits                  0\n",
       "Veggies                 0\n",
       "HvyAlcoholConsump       0\n",
       "AnyHealthcare           0\n",
       "NoDocbcCost             0\n",
       "GenHlth                 0\n",
       "MentHlth                0\n",
       "PhysHlth                0\n",
       "DiffWalk                0\n",
       "Sex                     0\n",
       "Age                     0\n",
       "Education               0\n",
       "Income                  0\n",
       "dtype: int64"
      ]
     },
     "execution_count": 10,
     "metadata": {},
     "output_type": "execute_result"
    }
   ],
   "source": [
    "diabetes_df.isna().sum()"
   ]
  },
  {
   "cell_type": "code",
   "execution_count": 11,
   "id": "d6b12448-b9ef-47c6-920d-477844317bd2",
   "metadata": {
    "tags": []
   },
   "outputs": [
    {
     "data": {
      "text/plain": [
       "0    213703\n",
       "2     35346\n",
       "1      4631\n",
       "Name: Diabetes_012, dtype: int64"
      ]
     },
     "execution_count": 11,
     "metadata": {},
     "output_type": "execute_result"
    }
   ],
   "source": [
    "diabetes_df['Diabetes_012'].value_counts()"
   ]
  },
  {
   "cell_type": "markdown",
   "id": "7fabb002-104b-4d3d-9117-914399e6ee3a",
   "metadata": {},
   "source": [
    "# Data Visualization"
   ]
  },
  {
   "cell_type": "code",
   "execution_count": 12,
   "id": "1aea3060-ad40-4e41-b349-601cc8faa18c",
   "metadata": {
    "tags": []
   },
   "outputs": [
    {
     "data": {
      "text/plain": [
       "Text(0.5, 0, 'Diabetes')"
      ]
     },
     "execution_count": 12,
     "metadata": {},
     "output_type": "execute_result"
    },
    {
     "data": {
      "image/png": "[encoded data removed]",
      "text/plain": [
       "<Figure size 600x500 with 1 Axes>"
      ]
     },
     "metadata": {},
     "output_type": "display_data"
    }
   ],
   "source": [
    "# Distribuição dos valores de diabetes\n",
    "f, ax = plt.subplots(figsize=(6, 5))\n",
    "sns.set_theme()\n",
    "sns.despine(f)\n",
    "sns.histplot(diabetes_df['Diabetes_012'], kde=True)\n",
    "ax.set_xticks([0,1,2])\n",
    "ax.set_title('Diabetes distribution')\n",
    "ax.set_xlabel(\"Diabetes\")"
   ]
  },
  {
   "cell_type": "markdown",
   "id": "eec38519-98dd-4e93-be3a-f4d21b4477df",
   "metadata": {},
   "source": [
    "## Diabetes x HighDP"
   ]
  },
  {
   "cell_type": "code",
   "execution_count": 13,
   "id": "052736d1-e0cf-4214-9c0b-1b496cb97d5a",
   "metadata": {
    "tags": []
   },
   "outputs": [],
   "source": [
    "bp_diabetes = diabetes_df.groupby(['Diabetes_012','HighBP']).size().reset_index(name = \"Count\")\n"
   ]
  },
  {
   "cell_type": "code",
   "execution_count": 14,
   "id": "3e22f583-cc1e-47a0-b056-10b36fa6fb53",
   "metadata": {
    "tags": []
   },
   "outputs": [
    {
     "data": {
      "text/plain": [
       "Text(0.5, 0, 'Diabetes')"
      ]
     },
     "execution_count": 14,
     "metadata": {},
     "output_type": "execute_result"
    },
    {
     "data": {
      "image/png": "[encoded data removed]",
      "text/plain": [
       "<Figure size 640x480 with 1 Axes>"
      ]
     },
     "metadata": {},
     "output_type": "display_data"
    }
   ],
   "source": [
    "sns.barplot(bp_diabetes, x='Diabetes_012', y='Count', hue=\"HighBP\", palette='rocket')\n",
    "plt.title(\"Diabetes ~ HighBP\")\n",
    "plt.xlabel('Diabetes')"
   ]
  },
  {
   "cell_type": "code",
   "execution_count": 15,
   "id": "3d01fcab-dcd5-42ab-aba8-8cc7809aa56d",
   "metadata": {
    "jupyter": {
     "source_hidden": true
    },
    "tags": []
   },
   "outputs": [
    {
     "name": "stdout",
     "output_type": "stream",
     "text": [
      "62.89% dos pacientes que não têm pressão sanguinea alta tendem a não ter diabetes ! [134391]\n",
      "37.11% dos pacientes que têm pressão sanguinea alta não têm diabetes ! [79312]\n",
      "Total: 213703 Amostras\n",
      "\n",
      "\n",
      "62.9% dos pacientes que têm pressão sanguinea alta têm pré-diabetes ! [1718]\n",
      "37.1% dos pacientes que não têm pressão sanguinea alta tendem a ter pré-diabetes ! [2913]\n",
      "Total: 4631 Amostras\n",
      "\n",
      "\n",
      "75.27% dos pacientes que têm pressão sanguinea alta têm diabetes ! [8742]\n",
      "24.73% dos pacientes que não têm pressão sanguinea alta tendem a ter diabetes ! [26604]\n",
      "Total: 35346 Amostras\n",
      "\n",
      "\n",
      "92.78% dos paciêntes onde sua pressão sanguinea não é alta tendem a não ter diabetes\n",
      "7.22% dos paciêntes onde sua pressão sanguinea não é alta têm pré-diabetes ou diabetes\n"
     ]
    }
   ],
   "source": [
    "total_diabetes_0 = (bp_diabetes[0:2]['Count']).sum()\n",
    "diabetes_0_bp0_percent = ((bp_diabetes[:1]['Count'])/total_diabetes_0)*100\n",
    "diabetes_0_bp1_percent = ((bp_diabetes[1:2]['Count'])/total_diabetes_0)*100\n",
    "\n",
    "print(str(round(diabetes_0_bp0_percent.sum(),2))+ \"% dos pacientes que não têm pressão sanguinea alta tendem a não ter diabetes ! \" + '['+str(bp_diabetes[:1]['Count'].sum())+']')\n",
    "print(str(round(diabetes_0_bp1_percent.sum(),2))+ \"% dos pacientes que têm pressão sanguinea alta não têm diabetes ! \" + '['+str(bp_diabetes[1:2]['Count'].sum())+']')\n",
    "print(\"Total: \"+str(total_diabetes_0)+\" Amostras\")\n",
    "\n",
    "print(\"\\n\")\n",
    "\n",
    "total_diabetes_1 = (bp_diabetes[2:4]['Count']).sum()\n",
    "diabetes_1_bp0_percent = ((bp_diabetes[2:3]['Count'])/total_diabetes_1)*100\n",
    "diabetes_1_bp1_percent = ((bp_diabetes[3:4]['Count'])/total_diabetes_1)*100\n",
    "\n",
    "print(str(round(diabetes_1_bp1_percent.sum(),2))+ \"% dos pacientes que têm pressão sanguinea alta têm pré-diabetes ! \" + '['+str(bp_diabetes[2:3]['Count'].sum())+']')\n",
    "print(str(round(diabetes_1_bp0_percent.sum(),2))+ \"% dos pacientes que não têm pressão sanguinea alta tendem a ter pré-diabetes ! \" + '['+str(bp_diabetes[3:4]['Count'].sum())+']')\n",
    "print(\"Total: \"+str(total_diabetes_1)+\" Amostras\")\n",
    "\n",
    "print(\"\\n\")\n",
    "\n",
    "total_diabetes_2 = (bp_diabetes[4:]['Count']).sum()\n",
    "diabetes_2_bp0_percent = ((bp_diabetes[4:5]['Count'])/total_diabetes_2)*100\n",
    "diabetes_2_bp1_percent = ((bp_diabetes[5:]['Count'])/total_diabetes_2)*100\n",
    "\n",
    "print(str(round(diabetes_2_bp1_percent.sum(),2))+ \"% dos pacientes que têm pressão sanguinea alta têm diabetes ! \" + '['+str(bp_diabetes[4:5]['Count'].sum())+']')\n",
    "print(str(round(diabetes_2_bp0_percent.sum(),2))+ \"% dos pacientes que não têm pressão sanguinea alta tendem a ter diabetes ! \" + '['+str(bp_diabetes[5:]['Count'].sum())+']')\n",
    "print(\"Total: \"+str(total_diabetes_2)+\" Amostras\")\n",
    "\n",
    "\n",
    "\n",
    "\n",
    "total_bp0 = bp_diabetes[bp_diabetes['HighBP'] == 0]['Count'].sum()\n",
    "total_bp0_d0_percent = (bp_diabetes[0:1]['Count'].sum()/total_bp0)*100\n",
    "\n",
    "print(\"\\n\")\n",
    "print(str(round(total_bp0_d0_percent,2)) + \"% dos paciêntes onde sua pressão sanguinea não é alta tendem a não ter diabetes\" )\n",
    "print(str(round(100-total_bp0_d0_percent,2)) + \"% dos paciêntes onde sua pressão sanguinea não é alta têm pré-diabetes ou diabetes\")"
   ]
  },
  {
   "cell_type": "markdown",
   "id": "bada53b0-3991-48dc-b229-501e69d96b0c",
   "metadata": {},
   "source": [
    "## Diabetes x HighChol"
   ]
  },
  {
   "cell_type": "code",
   "execution_count": 16,
   "id": "808d08e4-e4cb-44ab-bb8a-2e58994203ea",
   "metadata": {},
   "outputs": [],
   "source": [
    "chol_diabetes = diabetes_df.groupby(['Diabetes_012','HighChol']).size().reset_index(name=\"Count\")"
   ]
  },
  {
   "cell_type": "code",
   "execution_count": 17,
   "id": "8b8fd5d4-c00f-4eee-84b6-52db42aadd6f",
   "metadata": {
    "tags": []
   },
   "outputs": [
    {
     "data": {
      "text/plain": [
       "Text(0.5, 0, 'Diabetes')"
      ]
     },
     "execution_count": 17,
     "metadata": {},
     "output_type": "execute_result"
    },
    {
     "data": {
      "image/png": "[encoded data removed]",
      "text/plain": [
       "<Figure size 640x480 with 1 Axes>"
      ]
     },
     "metadata": {},
     "output_type": "display_data"
    }
   ],
   "source": [
    "sns.barplot(chol_diabetes, x='Diabetes_012', y='Count', hue=\"HighChol\", palette='mako')\n",
    "plt.title(\"Diabetes ~ HighChol\")\n",
    "plt.xlabel(\"Diabetes\")"
   ]
  },
  {
   "cell_type": "code",
   "execution_count": 18,
   "id": "04b16648-41b4-4653-96e7-d412c364adef",
   "metadata": {
    "jupyter": {
     "source_hidden": true
    },
    "tags": []
   },
   "outputs": [
    {
     "name": "stdout",
     "output_type": "stream",
     "text": [
      "62.08% dos pacientes que não têm colesterol alto têm pré-diabetes! [132673]\n",
      "37.92% dos pacientes que têm colesterol alto têm pré-diabetes ! [81030]\n",
      "Total: 213703 Amostras\n",
      "\n",
      "\n",
      "62.08% dos pacientes que têm pressão sanguinea alta têm pré-diabetes ! [1756]\n",
      "37.92% dos pacientes que não têm pressão sanguinea alta tendem a ter pré-diabetes ! [2875]\n",
      "Total: 4631 Amostras\n",
      "\n",
      "\n",
      "67.01% dos pacientes que têm pressão sanguinea alta têm diabetes ! [11660]\n",
      "32.99% dos pacientes que não têm pressão sanguinea alta tendem a ter diabetes ! [23686]\n",
      "Total: 35346 Amostras\n",
      "\n",
      "\n",
      "90.82% dos paciêntes onde seu colesterol não é alto tendem a não ter diabetes\n",
      "9.18% dos paciêntes onde seu colesterol também não é alto têm pré-diabetes ou diabetes\n"
     ]
    }
   ],
   "source": [
    "total_diabetes_0 = (chol_diabetes[chol_diabetes['Diabetes_012'] == 0]['Count']).sum()\n",
    "diabetes_0_chol0_percent = ((chol_diabetes[:1]['Count'])/total_diabetes_0)*100\n",
    "diabetes_0_chol1_percent = ((chol_diabetes[1:2]['Count'])/total_diabetes_0)*100\n",
    "\n",
    "print(str(round(diabetes_0_chol0_percent.sum(),2))+ \"% dos pacientes que não têm colesterol alto têm pré-diabetes! \" + '['+str(chol_diabetes[:1]['Count'].sum())+']')\n",
    "print(str(round(diabetes_0_chol1_percent.sum(),2))+ \"% dos pacientes que têm colesterol alto têm pré-diabetes ! \"+ '['+str(chol_diabetes[1:2]['Count'].sum())+']')\n",
    "print(\"Total: \"+str(total_diabetes_0)+\" Amostras\")\n",
    "\n",
    "print(\"\\n\")\n",
    "\n",
    "total_diabetes_1 = (chol_diabetes[chol_diabetes['Diabetes_012'] == 1]['Count']).sum()\n",
    "diabetes_1_chol0_percent = ((chol_diabetes[2:3]['Count'])/total_diabetes_1)*100\n",
    "diabetes_1_chol1_percent = ((chol_diabetes[3:4]['Count'])/total_diabetes_1)*100\n",
    "\n",
    "print(str(round(diabetes_1_chol1_percent.sum(),2))+ \"% dos pacientes que têm pressão sanguinea alta têm pré-diabetes ! \" + '['+str(chol_diabetes[2:3]['Count'].sum())+']')\n",
    "print(str(round(diabetes_1_chol0_percent.sum(),2))+ \"% dos pacientes que não têm pressão sanguinea alta tendem a ter pré-diabetes ! \" + '['+str(chol_diabetes[3:4]['Count'].sum())+']')\n",
    "print(\"Total: \"+str(total_diabetes_1)+\" Amostras\")\n",
    "\n",
    "print(\"\\n\")\n",
    "\n",
    "total_diabetes_2 = (chol_diabetes[chol_diabetes['Diabetes_012'] == 2]['Count']).sum()\n",
    "diabetes_2_chol0_percent = ((chol_diabetes[4:5]['Count'])/total_diabetes_2)*100\n",
    "diabetes_2_chol1_percent = ((chol_diabetes[5:]['Count'])/total_diabetes_2)*100\n",
    "\n",
    "print(str(round(diabetes_2_chol1_percent.sum(),2))+ \"% dos pacientes que têm pressão sanguinea alta têm diabetes ! \" + '['+str(chol_diabetes[4:5]['Count'].sum())+']')\n",
    "print(str(round(diabetes_2_chol0_percent.sum(),2))+ \"% dos pacientes que não têm pressão sanguinea alta tendem a ter diabetes ! \" + '['+str(chol_diabetes[5:]['Count'].sum())+']')\n",
    "print(\"Total: \"+str(total_diabetes_2)+\" Amostras\")\n",
    "\n",
    "total_chol0 = chol_diabetes[chol_diabetes['HighChol'] == 0]['Count'].sum()\n",
    "total_chol0_d0_percent = (chol_diabetes[0:1]['Count'].sum()/total_chol0)*100\n",
    "\n",
    "print(\"\\n\")\n",
    "print(str(round(total_chol0_d0_percent,2)) + \"% dos paciêntes onde seu colesterol não é alto tendem a não ter diabetes\" )\n",
    "print(str(round(100-total_chol0_d0_percent,2)) + \"% dos paciêntes onde seu colesterol também não é alto têm pré-diabetes ou diabetes\")"
   ]
  },
  {
   "cell_type": "markdown",
   "id": "6914c759-7b60-4881-9267-e979b0b7c297",
   "metadata": {},
   "source": [
    "# Diabetes Classification on Multi-Layer Perceptron"
   ]
  },
  {
   "cell_type": "markdown",
   "id": "5d30d57d-c718-48b8-a542-ca32b944229e",
   "metadata": {
    "tags": []
   },
   "source": [
    "## Samples"
   ]
  },
  {
   "cell_type": "code",
   "execution_count": 19,
   "id": "c2fe9a44-1f0d-4e38-ac1e-43c28c7cd00f",
   "metadata": {
    "tags": []
   },
   "outputs": [
    {
     "data": {
      "text/html": [
       "<div>\n",
       "<style scoped>\n",
       "    .dataframe tbody tr th:only-of-type {\n",
       "        vertical-align: middle;\n",
       "    }\n",
       "\n",
       "    .dataframe tbody tr th {\n",
       "        vertical-align: top;\n",
       "    }\n",
       "\n",
       "    .dataframe thead th {\n",
       "        text-align: right;\n",
       "    }\n",
       "</style>\n",
       "<table border=\"1\" class=\"dataframe\">\n",
       "  <thead>\n",
       "    <tr style=\"text-align: right;\">\n",
       "      <th></th>\n",
       "      <th>HighBP</th>\n",
       "      <th>HighChol</th>\n",
       "      <th>CholCheck</th>\n",
       "      <th>BMI</th>\n",
       "      <th>Smoker</th>\n",
       "      <th>Stroke</th>\n",
       "      <th>HeartDiseaseorAttack</th>\n",
       "      <th>PhysActivity</th>\n",
       "      <th>Fruits</th>\n",
       "      <th>Veggies</th>\n",
       "      <th>...</th>\n",
       "      <th>NoDocbcCost</th>\n",
       "      <th>GenHlth</th>\n",
       "      <th>MentHlth</th>\n",
       "      <th>PhysHlth</th>\n",
       "      <th>DiffWalk</th>\n",
       "      <th>Sex</th>\n",
       "      <th>Age</th>\n",
       "      <th>Education</th>\n",
       "      <th>Income</th>\n",
       "      <th>Diabetes_012</th>\n",
       "    </tr>\n",
       "  </thead>\n",
       "  <tbody>\n",
       "    <tr>\n",
       "      <th>0</th>\n",
       "      <td>1</td>\n",
       "      <td>1</td>\n",
       "      <td>1</td>\n",
       "      <td>40</td>\n",
       "      <td>1</td>\n",
       "      <td>0</td>\n",
       "      <td>0</td>\n",
       "      <td>0</td>\n",
       "      <td>0</td>\n",
       "      <td>1</td>\n",
       "      <td>...</td>\n",
       "      <td>0</td>\n",
       "      <td>5</td>\n",
       "      <td>18</td>\n",
       "      <td>15</td>\n",
       "      <td>1</td>\n",
       "      <td>0</td>\n",
       "      <td>9</td>\n",
       "      <td>4</td>\n",
       "      <td>3</td>\n",
       "      <td>0</td>\n",
       "    </tr>\n",
       "    <tr>\n",
       "      <th>1</th>\n",
       "      <td>0</td>\n",
       "      <td>0</td>\n",
       "      <td>0</td>\n",
       "      <td>25</td>\n",
       "      <td>1</td>\n",
       "      <td>0</td>\n",
       "      <td>0</td>\n",
       "      <td>1</td>\n",
       "      <td>0</td>\n",
       "      <td>0</td>\n",
       "      <td>...</td>\n",
       "      <td>1</td>\n",
       "      <td>3</td>\n",
       "      <td>0</td>\n",
       "      <td>0</td>\n",
       "      <td>0</td>\n",
       "      <td>0</td>\n",
       "      <td>7</td>\n",
       "      <td>6</td>\n",
       "      <td>1</td>\n",
       "      <td>0</td>\n",
       "    </tr>\n",
       "    <tr>\n",
       "      <th>2</th>\n",
       "      <td>1</td>\n",
       "      <td>1</td>\n",
       "      <td>1</td>\n",
       "      <td>28</td>\n",
       "      <td>0</td>\n",
       "      <td>0</td>\n",
       "      <td>0</td>\n",
       "      <td>0</td>\n",
       "      <td>1</td>\n",
       "      <td>0</td>\n",
       "      <td>...</td>\n",
       "      <td>1</td>\n",
       "      <td>5</td>\n",
       "      <td>30</td>\n",
       "      <td>30</td>\n",
       "      <td>1</td>\n",
       "      <td>0</td>\n",
       "      <td>9</td>\n",
       "      <td>4</td>\n",
       "      <td>8</td>\n",
       "      <td>0</td>\n",
       "    </tr>\n",
       "    <tr>\n",
       "      <th>3</th>\n",
       "      <td>1</td>\n",
       "      <td>0</td>\n",
       "      <td>1</td>\n",
       "      <td>27</td>\n",
       "      <td>0</td>\n",
       "      <td>0</td>\n",
       "      <td>0</td>\n",
       "      <td>1</td>\n",
       "      <td>1</td>\n",
       "      <td>1</td>\n",
       "      <td>...</td>\n",
       "      <td>0</td>\n",
       "      <td>2</td>\n",
       "      <td>0</td>\n",
       "      <td>0</td>\n",
       "      <td>0</td>\n",
       "      <td>0</td>\n",
       "      <td>11</td>\n",
       "      <td>3</td>\n",
       "      <td>6</td>\n",
       "      <td>0</td>\n",
       "    </tr>\n",
       "    <tr>\n",
       "      <th>4</th>\n",
       "      <td>1</td>\n",
       "      <td>1</td>\n",
       "      <td>1</td>\n",
       "      <td>24</td>\n",
       "      <td>0</td>\n",
       "      <td>0</td>\n",
       "      <td>0</td>\n",
       "      <td>1</td>\n",
       "      <td>1</td>\n",
       "      <td>1</td>\n",
       "      <td>...</td>\n",
       "      <td>0</td>\n",
       "      <td>2</td>\n",
       "      <td>3</td>\n",
       "      <td>0</td>\n",
       "      <td>0</td>\n",
       "      <td>0</td>\n",
       "      <td>11</td>\n",
       "      <td>5</td>\n",
       "      <td>4</td>\n",
       "      <td>0</td>\n",
       "    </tr>\n",
       "  </tbody>\n",
       "</table>\n",
       "<p>5 rows × 22 columns</p>\n",
       "</div>"
      ],
      "text/plain": [
       "   HighBP  HighChol  CholCheck  BMI  Smoker  Stroke  HeartDiseaseorAttack  \\\n",
       "0       1         1          1   40       1       0                     0   \n",
       "1       0         0          0   25       1       0                     0   \n",
       "2       1         1          1   28       0       0                     0   \n",
       "3       1         0          1   27       0       0                     0   \n",
       "4       1         1          1   24       0       0                     0   \n",
       "\n",
       "   PhysActivity  Fruits  Veggies  ...  NoDocbcCost  GenHlth  MentHlth  \\\n",
       "0             0       0        1  ...            0        5        18   \n",
       "1             1       0        0  ...            1        3         0   \n",
       "2             0       1        0  ...            1        5        30   \n",
       "3             1       1        1  ...            0        2         0   \n",
       "4             1       1        1  ...            0        2         3   \n",
       "\n",
       "   PhysHlth  DiffWalk  Sex  Age  Education  Income  Diabetes_012  \n",
       "0        15         1    0    9          4       3             0  \n",
       "1         0         0    0    7          6       1             0  \n",
       "2        30         1    0    9          4       8             0  \n",
       "3         0         0    0   11          3       6             0  \n",
       "4         0         0    0   11          5       4             0  \n",
       "\n",
       "[5 rows x 22 columns]"
      ]
     },
     "execution_count": 19,
     "metadata": {},
     "output_type": "execute_result"
    }
   ],
   "source": [
    "diabetes_df = diabetes_df.reindex(columns = [col for col in diabetes_df.columns if col != 'Diabetes_012'] + ['Diabetes_012'])\n",
    "diabetes_df.head()"
   ]
  },
  {
   "cell_type": "code",
   "execution_count": 71,
   "id": "c8d8cd51-e6b5-4bc3-b3cc-707c6f1ec162",
   "metadata": {
    "tags": []
   },
   "outputs": [],
   "source": [
    "# Testando\n",
    "\n",
    "diabetes_y0 = diabetes_df[diabetes_df['Diabetes_012'] == 0]\n",
    "diabetes_y1 = diabetes_df[diabetes_df['Diabetes_012'] == 1]\n",
    "diabetes_y2 = diabetes_df[diabetes_df['Diabetes_012'] == 2]\n",
    "\n",
    "diabetes_y0_train = diabetes_y0[0: round(len(diabetes_y0 * 0.7))]\n",
    "diabetes_y0_test = diabetes_y0[len(diabetes_y0_train):]\n",
    "\n",
    "diabetes_y1_train = diabetes_y1[0: round(len(diabetes_y1 * 0.7))]\n",
    "diabetes_y1_test = diabetes_y1[len(diabetes_y1_train):]\n",
    "\n",
    "diabetes_y2_train = diabetes_y2[0: round(len(diabetes_y2 * 0.7))]\n",
    "diabetes_y2_test = diabetes_y2[len(diabetes_y2_train):]"
   ]
  },
  {
   "cell_type": "code",
   "execution_count": 20,
   "id": "b2439541-2381-423a-8daf-9a39f7552769",
   "metadata": {
    "tags": []
   },
   "outputs": [],
   "source": [
    "diabetes_train = diabetes_df.drop(['Diabetes_012'], axis=1)\n",
    "diabetes_y = diabetes_df['Diabetes_012']"
   ]
  },
  {
   "cell_type": "code",
   "execution_count": 21,
   "id": "37d4e72b-e2a5-4eba-9ffc-3d5818da7920",
   "metadata": {
    "tags": []
   },
   "outputs": [],
   "source": [
    "y_onehot = pd.get_dummies(diabetes_df['Diabetes_012']).values"
   ]
  },
  {
   "cell_type": "code",
   "execution_count": 22,
   "id": "d6ce8d44-53d0-494b-825a-0c3be33095ab",
   "metadata": {
    "tags": []
   },
   "outputs": [],
   "source": [
    "X_train, X_test, y_train, y_test = train_test_split(diabetes_train.values, y_onehot, test_size=0.3)"
   ]
  },
  {
   "cell_type": "code",
   "execution_count": 23,
   "id": "55055500-8476-4789-85ba-be1c424b6874",
   "metadata": {
    "tags": []
   },
   "outputs": [
    {
     "data": {
      "text/plain": [
       "(177576, 21)"
      ]
     },
     "execution_count": 23,
     "metadata": {},
     "output_type": "execute_result"
    }
   ],
   "source": [
    "X_train.shape"
   ]
  },
  {
   "cell_type": "markdown",
   "id": "c8086982-f8f1-4fc6-9726-1ad9e6ec6d60",
   "metadata": {},
   "source": [
    "## Creating and fitting model"
   ]
  },
  {
   "cell_type": "code",
   "execution_count": 24,
   "id": "9c9f4936-e431-4703-9d40-e5806fdb2274",
   "metadata": {
    "tags": []
   },
   "outputs": [],
   "source": [
    "input_shape = [21]"
   ]
  },
  {
   "cell_type": "code",
   "execution_count": 25,
   "id": "1be63d41-ae6d-4d8b-9905-1bc2839e37c2",
   "metadata": {
    "tags": []
   },
   "outputs": [],
   "source": [
    "diabetes_model = keras.Sequential([\n",
    "        layers.Dense(units=64,  activation='relu', input_shape = input_shape),\n",
    "        layers.Dense(units=32, activation='relu'),\n",
    "        layers.Dense(units=16, activation='relu'),\n",
    "        layers.Dense(units=3, activation='softmax')\n",
    "])"
   ]
  },
  {
   "cell_type": "code",
   "execution_count": 26,
   "id": "1cbeb126-188f-47e5-a5c6-c5ef1eeac36b",
   "metadata": {
    "tags": []
   },
   "outputs": [],
   "source": [
    "diabetes_model.compile(loss='categorical_crossentropy', optimizer='adam', metrics=['accuracy'])"
   ]
  },
  {
   "cell_type": "markdown",
   "id": "a3d4ee31-1233-422e-b494-fb229ff66d8e",
   "metadata": {},
   "source": [
    "Em um modelo de multi classes é melhor usar uma loss function criada para isso, como a **Cross-Entropy**.\n",
    "\n",
    "A Cross-Entropy é uma medida de distância entre as distribuições de probabilidade dos valores previstos e dos valores reais.\n",
    "\n",
    "\"A principal razão para o uso da cross-entropy é que ela leva em conta a incerteza do modelo em relação à sua previsão. Ao contrário da métrica de erro absoluto médio (MAE), que simplesmente mede a diferença entre a saída prevista e a saída real, a cross-entropy considera a incerteza do modelo em sua previsão.\""
   ]
  },
  {
   "cell_type": "code",
   "execution_count": 27,
   "id": "757decbc-1e07-4e8a-8777-e52964ebd638",
   "metadata": {
    "tags": []
   },
   "outputs": [
    {
     "name": "stdout",
     "output_type": "stream",
     "text": [
      "Model: \"sequential\"\n",
      "_________________________________________________________________\n",
      " Layer (type)                Output Shape              Param #   \n",
      "=================================================================\n",
      " dense (Dense)               (None, 64)                1408      \n",
      "                                                                 \n",
      " dense_1 (Dense)             (None, 32)                2080      \n",
      "                                                                 \n",
      " dense_2 (Dense)             (None, 16)                528       \n",
      "                                                                 \n",
      " dense_3 (Dense)             (None, 3)                 51        \n",
      "                                                                 \n",
      "=================================================================\n",
      "Total params: 4,067\n",
      "Trainable params: 4,067\n",
      "Non-trainable params: 0\n",
      "_________________________________________________________________\n"
     ]
    }
   ],
   "source": [
    "diabetes_model.summary()"
   ]
  },
  {
   "cell_type": "code",
   "execution_count": 28,
   "id": "0578f5f6-a5a4-4c01-9d9a-a05811f33acc",
   "metadata": {
    "tags": []
   },
   "outputs": [
    {
     "data": {
      "image/png": "[encoded data removed]",
      "text/plain": [
       "<IPython.core.display.Image object>"
      ]
     },
     "execution_count": 28,
     "metadata": {},
     "output_type": "execute_result"
    }
   ],
   "source": [
    "plot_model(diabetes_model, to_file='model.png',show_shapes=True, show_layer_names=True)"
   ]
  },
  {
   "cell_type": "code",
   "execution_count": 29,
   "id": "9d4b42f1-d67c-4e54-8ddc-3b463b7af03b",
   "metadata": {
    "tags": []
   },
   "outputs": [
    {
     "name": "stdout",
     "output_type": "stream",
     "text": [
      "Epoch 1/50\n",
      "694/694 [==============================] - 6s 4ms/step - loss: 0.4946 - accuracy: 0.8308 - val_loss: 0.4120 - val_accuracy: 0.8439\n",
      "Epoch 2/50\n",
      "694/694 [==============================] - 3s 4ms/step - loss: 0.4106 - accuracy: 0.8464 - val_loss: 0.4128 - val_accuracy: 0.8438\n",
      "Epoch 3/50\n",
      "694/694 [==============================] - 3s 4ms/step - loss: 0.4070 - accuracy: 0.8471 - val_loss: 0.4033 - val_accuracy: 0.8456\n",
      "Epoch 4/50\n",
      "694/694 [==============================] - 3s 4ms/step - loss: 0.4045 - accuracy: 0.8473 - val_loss: 0.4024 - val_accuracy: 0.8460\n",
      "Epoch 5/50\n",
      "694/694 [==============================] - 3s 4ms/step - loss: 0.4039 - accuracy: 0.8475 - val_loss: 0.4034 - val_accuracy: 0.8447\n",
      "Epoch 6/50\n",
      "694/694 [==============================] - 3s 4ms/step - loss: 0.4009 - accuracy: 0.8487 - val_loss: 0.4035 - val_accuracy: 0.8470\n",
      "Epoch 7/50\n",
      "694/694 [==============================] - 3s 4ms/step - loss: 0.4006 - accuracy: 0.8485 - val_loss: 0.4007 - val_accuracy: 0.8464\n",
      "Epoch 8/50\n",
      "694/694 [==============================] - 3s 4ms/step - loss: 0.3995 - accuracy: 0.8487 - val_loss: 0.3974 - val_accuracy: 0.8473\n",
      "Epoch 9/50\n",
      "694/694 [==============================] - 3s 4ms/step - loss: 0.3981 - accuracy: 0.8494 - val_loss: 0.4041 - val_accuracy: 0.8457\n",
      "Epoch 10/50\n",
      "694/694 [==============================] - 3s 4ms/step - loss: 0.3976 - accuracy: 0.8492 - val_loss: 0.3967 - val_accuracy: 0.8472\n",
      "Epoch 11/50\n",
      "694/694 [==============================] - 3s 4ms/step - loss: 0.3965 - accuracy: 0.8495 - val_loss: 0.3962 - val_accuracy: 0.8475\n",
      "Epoch 12/50\n",
      "694/694 [==============================] - 3s 4ms/step - loss: 0.3968 - accuracy: 0.8493 - val_loss: 0.3971 - val_accuracy: 0.8475\n",
      "Epoch 13/50\n",
      "694/694 [==============================] - 3s 4ms/step - loss: 0.3963 - accuracy: 0.8497 - val_loss: 0.3974 - val_accuracy: 0.8475\n",
      "Epoch 14/50\n",
      "694/694 [==============================] - 3s 4ms/step - loss: 0.3958 - accuracy: 0.8499 - val_loss: 0.3958 - val_accuracy: 0.8476\n",
      "Epoch 15/50\n",
      "694/694 [==============================] - 3s 4ms/step - loss: 0.3960 - accuracy: 0.8500 - val_loss: 0.3951 - val_accuracy: 0.8478\n",
      "Epoch 16/50\n",
      "694/694 [==============================] - 3s 4ms/step - loss: 0.3957 - accuracy: 0.8497 - val_loss: 0.3987 - val_accuracy: 0.8471\n",
      "Epoch 17/50\n",
      "694/694 [==============================] - 3s 4ms/step - loss: 0.3954 - accuracy: 0.8496 - val_loss: 0.3949 - val_accuracy: 0.8476\n",
      "Epoch 18/50\n",
      "694/694 [==============================] - 3s 4ms/step - loss: 0.3952 - accuracy: 0.8496 - val_loss: 0.3957 - val_accuracy: 0.8478\n",
      "Epoch 19/50\n",
      "694/694 [==============================] - 3s 4ms/step - loss: 0.3949 - accuracy: 0.8496 - val_loss: 0.3976 - val_accuracy: 0.8479\n",
      "Epoch 20/50\n",
      "694/694 [==============================] - 3s 4ms/step - loss: 0.3946 - accuracy: 0.8497 - val_loss: 0.3964 - val_accuracy: 0.8471\n",
      "Epoch 21/50\n",
      "694/694 [==============================] - 3s 4ms/step - loss: 0.3946 - accuracy: 0.8499 - val_loss: 0.3969 - val_accuracy: 0.8475\n",
      "Epoch 22/50\n",
      "694/694 [==============================] - 3s 4ms/step - loss: 0.3940 - accuracy: 0.8502 - val_loss: 0.3953 - val_accuracy: 0.8471\n",
      "Epoch 23/50\n",
      "694/694 [==============================] - 3s 4ms/step - loss: 0.3945 - accuracy: 0.8499 - val_loss: 0.3955 - val_accuracy: 0.8476\n",
      "Epoch 24/50\n",
      "694/694 [==============================] - 3s 4ms/step - loss: 0.3941 - accuracy: 0.8499 - val_loss: 0.3955 - val_accuracy: 0.8479\n",
      "Epoch 25/50\n",
      "694/694 [==============================] - 3s 4ms/step - loss: 0.3938 - accuracy: 0.8501 - val_loss: 0.3939 - val_accuracy: 0.8480\n",
      "Epoch 26/50\n",
      "694/694 [==============================] - 3s 4ms/step - loss: 0.3938 - accuracy: 0.8496 - val_loss: 0.3952 - val_accuracy: 0.8484\n",
      "Epoch 27/50\n",
      "694/694 [==============================] - 3s 4ms/step - loss: 0.3936 - accuracy: 0.8502 - val_loss: 0.3967 - val_accuracy: 0.8476\n",
      "Epoch 28/50\n",
      "694/694 [==============================] - 3s 4ms/step - loss: 0.3932 - accuracy: 0.8506 - val_loss: 0.3955 - val_accuracy: 0.8477\n",
      "Epoch 29/50\n",
      "694/694 [==============================] - 3s 4ms/step - loss: 0.3933 - accuracy: 0.8500 - val_loss: 0.3944 - val_accuracy: 0.8481\n",
      "Epoch 30/50\n",
      "694/694 [==============================] - 3s 4ms/step - loss: 0.3931 - accuracy: 0.8501 - val_loss: 0.3957 - val_accuracy: 0.8477\n",
      "Epoch 31/50\n",
      "694/694 [==============================] - 3s 4ms/step - loss: 0.3930 - accuracy: 0.8503 - val_loss: 0.3941 - val_accuracy: 0.8478\n",
      "Epoch 32/50\n",
      "694/694 [==============================] - 3s 4ms/step - loss: 0.3931 - accuracy: 0.8499 - val_loss: 0.3942 - val_accuracy: 0.8481\n",
      "Epoch 33/50\n",
      "694/694 [==============================] - 3s 4ms/step - loss: 0.3926 - accuracy: 0.8501 - val_loss: 0.3941 - val_accuracy: 0.8478\n",
      "Epoch 34/50\n",
      "694/694 [==============================] - 2s 4ms/step - loss: 0.3925 - accuracy: 0.8505 - val_loss: 0.3942 - val_accuracy: 0.8483\n",
      "Epoch 35/50\n",
      "694/694 [==============================] - 3s 4ms/step - loss: 0.3930 - accuracy: 0.8507 - val_loss: 0.3935 - val_accuracy: 0.8482\n",
      "Epoch 36/50\n",
      "694/694 [==============================] - 3s 4ms/step - loss: 0.3923 - accuracy: 0.8506 - val_loss: 0.3952 - val_accuracy: 0.8481\n",
      "Epoch 37/50\n",
      "694/694 [==============================] - 2s 4ms/step - loss: 0.3921 - accuracy: 0.8505 - val_loss: 0.3943 - val_accuracy: 0.8479\n",
      "Epoch 38/50\n",
      "694/694 [==============================] - 3s 4ms/step - loss: 0.3922 - accuracy: 0.8504 - val_loss: 0.3939 - val_accuracy: 0.8484\n",
      "Epoch 39/50\n",
      "694/694 [==============================] - 3s 4ms/step - loss: 0.3920 - accuracy: 0.8508 - val_loss: 0.3936 - val_accuracy: 0.8482\n",
      "Epoch 40/50\n",
      "694/694 [==============================] - 2s 4ms/step - loss: 0.3919 - accuracy: 0.8509 - val_loss: 0.3941 - val_accuracy: 0.8482\n",
      "Epoch 41/50\n",
      "694/694 [==============================] - 2s 4ms/step - loss: 0.3916 - accuracy: 0.8508 - val_loss: 0.3943 - val_accuracy: 0.8477\n",
      "Epoch 42/50\n",
      "694/694 [==============================] - 3s 4ms/step - loss: 0.3918 - accuracy: 0.8508 - val_loss: 0.3943 - val_accuracy: 0.8480\n",
      "Epoch 43/50\n",
      "694/694 [==============================] - 3s 4ms/step - loss: 0.3918 - accuracy: 0.8505 - val_loss: 0.3935 - val_accuracy: 0.8478\n",
      "Epoch 44/50\n",
      "694/694 [==============================] - 3s 4ms/step - loss: 0.3914 - accuracy: 0.8508 - val_loss: 0.3933 - val_accuracy: 0.8485\n",
      "Epoch 45/50\n",
      "694/694 [==============================] - 3s 4ms/step - loss: 0.3913 - accuracy: 0.8509 - val_loss: 0.3940 - val_accuracy: 0.8483\n",
      "Epoch 46/50\n",
      "694/694 [==============================] - 3s 4ms/step - loss: 0.3912 - accuracy: 0.8512 - val_loss: 0.3933 - val_accuracy: 0.8485\n",
      "Epoch 47/50\n",
      "694/694 [==============================] - 3s 4ms/step - loss: 0.3914 - accuracy: 0.8511 - val_loss: 0.3957 - val_accuracy: 0.8471\n",
      "Epoch 48/50\n",
      "694/694 [==============================] - 3s 4ms/step - loss: 0.3911 - accuracy: 0.8510 - val_loss: 0.3936 - val_accuracy: 0.8481\n",
      "Epoch 49/50\n",
      "694/694 [==============================] - 3s 4ms/step - loss: 0.3909 - accuracy: 0.8508 - val_loss: 0.3942 - val_accuracy: 0.8483\n",
      "Epoch 50/50\n",
      "694/694 [==============================] - 3s 4ms/step - loss: 0.3908 - accuracy: 0.8513 - val_loss: 0.3969 - val_accuracy: 0.8475\n"
     ]
    }
   ],
   "source": [
    "history = diabetes_model.fit(X_train,y_train, epochs=50,batch_size=256, validation_data=(X_test,y_test))"
   ]
  },
  {
   "cell_type": "code",
   "execution_count": 30,
   "id": "d0f94ee1-86c6-4dd1-babb-3cd23b40a34e",
   "metadata": {
    "tags": []
   },
   "outputs": [
    {
     "data": {
      "text/plain": [
       "Text(0, 0.5, 'Loss')"
      ]
     },
     "execution_count": 30,
     "metadata": {},
     "output_type": "execute_result"
    },
    {
     "data": {
      "image/png": "[encoded data removed]",
      "text/plain": [
       "<Figure size 640x480 with 1 Axes>"
      ]
     },
     "metadata": {},
     "output_type": "display_data"
    }
   ],
   "source": [
    "history_df = pd.DataFrame(history.history)\n",
    "history_df['loss'].plot()\n",
    "plt.title(\"Loss in Epochs\")\n",
    "plt.xlabel(\"Epoch\")\n",
    "plt.ylabel(\"Loss\")"
   ]
  },
  {
   "cell_type": "code",
   "execution_count": 31,
   "id": "2bee5291-76ac-4dcc-93e3-737b8c2970bc",
   "metadata": {
    "tags": []
   },
   "outputs": [
    {
     "data": {
      "text/plain": [
       "Text(0, 0.5, 'Accuracy')"
      ]
     },
     "execution_count": 31,
     "metadata": {},
     "output_type": "execute_result"
    },
    {
     "data": {
      "image/png": "[encoded data removed]",
      "text/plain": [
       "<Figure size 640x480 with 1 Axes>"
      ]
     },
     "metadata": {},
     "output_type": "display_data"
    }
   ],
   "source": [
    "history_df['accuracy'].plot()\n",
    "plt.title(\"Accuracy in Epochs\")\n",
    "plt.xlabel(\"Epoch\")\n",
    "plt.ylabel(\"Accuracy\")"
   ]
  },
  {
   "cell_type": "code",
   "execution_count": 32,
   "id": "41c28f0d-1c59-4de6-a871-5f6156d0771b",
   "metadata": {
    "tags": []
   },
   "outputs": [
    {
     "data": {
      "text/plain": [
       "<Axes: >"
      ]
     },
     "execution_count": 32,
     "metadata": {},
     "output_type": "execute_result"
    },
    {
     "data": {
      "image/png": "[encoded data removed]",
      "text/plain": [
       "<Figure size 640x480 with 1 Axes>"
      ]
     },
     "metadata": {},
     "output_type": "display_data"
    }
   ],
   "source": [
    "history_df.loc[0:,['loss','val_loss']].plot()"
   ]
  },
  {
   "cell_type": "code",
   "execution_count": 33,
   "id": "0b77db07-f970-42cc-b977-0bebf0bfedd2",
   "metadata": {
    "tags": []
   },
   "outputs": [
    {
     "data": {
      "text/plain": [
       "<Axes: >"
      ]
     },
     "execution_count": 33,
     "metadata": {},
     "output_type": "execute_result"
    },
    {
     "data": {
      "image/png": "[encoded data removed]",
      "text/plain": [
       "<Figure size 640x480 with 1 Axes>"
      ]
     },
     "metadata": {},
     "output_type": "display_data"
    }
   ],
   "source": [
    "history_df.loc[10:,['loss','val_loss']].plot()"
   ]
  },
  {
   "cell_type": "code",
   "execution_count": 34,
   "id": "236b4675-0474-491e-bf79-59c8e260a5e0",
   "metadata": {
    "tags": []
   },
   "outputs": [
    {
     "name": "stdout",
     "output_type": "stream",
     "text": [
      "2379/2379 [==============================] - 5s 2ms/step - loss: 0.3969 - accuracy: 0.8475\n"
     ]
    }
   ],
   "source": [
    "loss, accuracy = diabetes_model.evaluate(X_test, y_test)"
   ]
  },
  {
   "cell_type": "code",
   "execution_count": 35,
   "id": "38f30bc5-debc-4b6c-8293-2f17a402093e",
   "metadata": {
    "tags": []
   },
   "outputs": [
    {
     "name": "stdout",
     "output_type": "stream",
     "text": [
      "2379/2379 [==============================] - 5s 2ms/step\n"
     ]
    }
   ],
   "source": [
    "y_predicted = diabetes_model.predict(X_test)"
   ]
  },
  {
   "cell_type": "code",
   "execution_count": 36,
   "id": "cb6b182f-2b4f-4e4c-9fc1-6f3d1815375b",
   "metadata": {
    "tags": []
   },
   "outputs": [
    {
     "data": {
      "text/plain": [
       "0.39692822098731995"
      ]
     },
     "execution_count": 36,
     "metadata": {},
     "output_type": "execute_result"
    }
   ],
   "source": [
    "loss"
   ]
  },
  {
   "cell_type": "code",
   "execution_count": 37,
   "id": "f16e3e69-6260-4684-9039-d5269c9699f1",
   "metadata": {
    "tags": []
   },
   "outputs": [
    {
     "data": {
      "text/plain": [
       "0.8474718928337097"
      ]
     },
     "execution_count": 37,
     "metadata": {},
     "output_type": "execute_result"
    }
   ],
   "source": [
    "accuracy"
   ]
  },
  {
   "cell_type": "code",
   "execution_count": 38,
   "id": "33ecb680-874a-4e21-8e4f-47a46b1c7e4c",
   "metadata": {
    "tags": []
   },
   "outputs": [
    {
     "data": {
      "text/plain": [
       "array([[0.95580703, 0.0044025 , 0.03979053],\n",
       "       [0.5992749 , 0.05231556, 0.34840947],\n",
       "       [0.9922218 , 0.00246594, 0.00531229],\n",
       "       ...,\n",
       "       [0.94439036, 0.01173344, 0.04387616],\n",
       "       [0.9762582 , 0.004139  , 0.01960279],\n",
       "       [0.77327824, 0.01955049, 0.2071713 ]], dtype=float32)"
      ]
     },
     "execution_count": 38,
     "metadata": {},
     "output_type": "execute_result"
    }
   ],
   "source": [
    "y_predicted"
   ]
  },
  {
   "cell_type": "code",
   "execution_count": 39,
   "id": "c0308a2c-1b84-4c9a-ae0e-aff032caa809",
   "metadata": {
    "tags": []
   },
   "outputs": [
    {
     "data": {
      "text/plain": [
       "<Axes: >"
      ]
     },
     "execution_count": 39,
     "metadata": {},
     "output_type": "execute_result"
    },
    {
     "data": {
      "image/png": "[encoded data removed]",
      "text/plain": [
       "<Figure size 640x480 with 2 Axes>"
      ]
     },
     "metadata": {},
     "output_type": "display_data"
    }
   ],
   "source": [
    "y_predicteds = []\n",
    "for x in y_predicted:\n",
    "    if(x[0] > x[1] and x[0] > x[2]):\n",
    "        y_predicteds.append([1,0,0])\n",
    "    elif (x[1] > x[0] and x[1] > x[2]):\n",
    "        y_predicteds.append([0,1,0])\n",
    "    else:\n",
    "        y_predicteds.append([0,0,1])\n",
    "\n",
    "#confusion_matrix(np.array(y_test),np.array(y_predicteds))\n",
    "\n",
    "confusion_matrix_y = confusion_matrix(y_test.argmax(axis=1), np.array(y_predicteds).argmax(axis=1))\n",
    "\n",
    "sns.heatmap(confusion_matrix_y, annot=True, cmap='rocket')"
   ]
  },
  {
   "cell_type": "markdown",
   "id": "492c8cc5-0a5f-4099-a6f7-1231dbaca77c",
   "metadata": {},
   "source": [
    "# Modificando e Testando"
   ]
  },
  {
   "cell_type": "markdown",
   "id": "ff3a95cb-6f4b-4c9d-b893-48ac6826db36",
   "metadata": {},
   "source": [
    "### Excluindo caracteristicas"
   ]
  },
  {
   "cell_type": "code",
   "execution_count": 43,
   "id": "0fe4bbd2-073b-4e4a-b4f7-d90acec1c392",
   "metadata": {
    "tags": []
   },
   "outputs": [
    {
     "data": {
      "text/plain": [
       "(253680, 18)"
      ]
     },
     "execution_count": 43,
     "metadata": {},
     "output_type": "execute_result"
    }
   ],
   "source": [
    "diabetes_df_exclude = diabetes_df.drop(['Sex','Age','Education', 'CholCheck'], axis=1)\n",
    "diabetes_df_exclude.shape"
   ]
  },
  {
   "cell_type": "code",
   "execution_count": 51,
   "id": "ce4fe9e9-dc28-431a-94d3-0658dfc42c9a",
   "metadata": {
    "tags": []
   },
   "outputs": [],
   "source": [
    "diabetes_train = diabetes_df_exclude.drop(['Diabetes_012'], axis=1)\n",
    "diabetes_y = diabetes_df_exclude['Diabetes_012']\n",
    "\n",
    "y_onehot = pd.get_dummies(diabetes_df_exclude['Diabetes_012']).values\n",
    "\n",
    "X_train, X_test, y_train, y_test = train_test_split(diabetes_train.values, y_onehot, test_size=0.3)"
   ]
  },
  {
   "cell_type": "code",
   "execution_count": 52,
   "id": "97ad59c2-d537-4fba-933c-859e82cabb7e",
   "metadata": {
    "tags": []
   },
   "outputs": [],
   "source": [
    "input_shape = [17]\n",
    "\n",
    "diabetes_exclude_model = keras.Sequential([\n",
    "        layers.Dense(units=64,  activation='relu', input_shape = input_shape),\n",
    "        layers.Dense(units=32, activation='relu'),\n",
    "        layers.Dense(units=16, activation='relu'),\n",
    "        layers.Dense(units=3, activation='softmax')\n",
    "])\n",
    "\n",
    "diabetes_exclude_model.compile(loss='categorical_crossentropy', optimizer='adam', metrics=['accuracy'])"
   ]
  },
  {
   "cell_type": "code",
   "execution_count": 62,
   "id": "56b7b7ab-3566-4994-b820-723347b0b2b6",
   "metadata": {
    "tags": []
   },
   "outputs": [],
   "source": [
    "history_exclude = diabetes_exclude_model.fit(X_train,y_train, epochs=50,batch_size=256, validation_data=(X_test,y_test),verbose=0)"
   ]
  },
  {
   "cell_type": "code",
   "execution_count": 63,
   "id": "33f9ae59-c9f7-4b71-a656-21704fbfa231",
   "metadata": {
    "tags": []
   },
   "outputs": [],
   "source": [
    "history_exclude = pd.DataFrame(history.history)"
   ]
  },
  {
   "cell_type": "code",
   "execution_count": 64,
   "id": "bb355fa4-4d3f-4c7b-8a39-b2d008c4be09",
   "metadata": {
    "tags": []
   },
   "outputs": [
    {
     "data": {
      "text/plain": [
       "<Axes: >"
      ]
     },
     "execution_count": 64,
     "metadata": {},
     "output_type": "execute_result"
    },
    {
     "data": {
      "image/png": "[encoded data removed]",
      "text/plain": [
       "<Figure size 640x480 with 1 Axes>"
      ]
     },
     "metadata": {},
     "output_type": "display_data"
    }
   ],
   "source": [
    "history_exclude.loc[0:,['loss','val_loss']].plot()"
   ]
  },
  {
   "cell_type": "code",
   "execution_count": null,
   "id": "9e2352a4-91a0-409f-b261-70af49696bdf",
   "metadata": {},
   "outputs": [],
   "source": []
  }
 ],
 "metadata": {
  "kernelspec": {
   "display_name": "Python 3 (ipykernel)",
   "language": "python",
   "name": "python3"
  },
  "language_info": {
   "codemirror_mode": {
    "name": "ipython",
    "version": 3
   },
   "file_extension": ".py",
   "mimetype": "text/x-python",
   "name": "python",
   "nbconvert_exporter": "python",
   "pygments_lexer": "ipython3",
   "version": "3.11.2"
  }
 },
 "nbformat": 4,
 "nbformat_minor": 5
}
